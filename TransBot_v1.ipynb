{
  "nbformat": 4,
  "nbformat_minor": 0,
  "metadata": {
    "colab": {
      "provenance": [],
      "authorship_tag": "ABX9TyMo5mIhUnfIwk2//1fCkuId",
      "include_colab_link": true
    },
    "kernelspec": {
      "name": "python3",
      "display_name": "Python 3"
    },
    "language_info": {
      "name": "python"
    }
  },
  "cells": [
    {
      "cell_type": "markdown",
      "metadata": {
        "id": "view-in-github",
        "colab_type": "text"
      },
      "source": [
        "<a href=\"https://colab.research.google.com/github/steph2088/code/blob/main/TransBot_v1.ipynb\" target=\"_parent\"><img src=\"https://colab.research.google.com/assets/colab-badge.svg\" alt=\"Open In Colab\"/></a>"
      ]
    },
    {
      "cell_type": "code",
      "execution_count": null,
      "metadata": {
        "colab": {
          "base_uri": "https://localhost:8080/"
        },
        "id": "TT6ZSK_c2Ks2",
        "outputId": "9aaa4fd7-2ed2-47b4-e7df-55d548fdf7ec"
      },
      "outputs": [
        {
          "output_type": "stream",
          "name": "stdout",
          "text": [
            "Enter what you want: b\n",
            "2\n"
          ]
        }
      ],
      "source": [
        "d = str(input(\"Enter what you want: \"))\n",
        "p  = {'a': '1', 'b': '2', 'c':'3'}\n",
        "print(p[d])"
      ]
    },
    {
      "cell_type": "code",
      "source": [
        "p = str(input(\"Enter what you want to translate.\" \"\\n\" \"Introduce lo que quieres traducir.\" \"\\n\" \"翻訳したい内容を入力してください:\" \"\\n\" ))\n",
        "d  = {'devanado': 'まきとり,winding','winding': 'まきとり, devanado', '巻き取り工程': 'winding process,proceso de bobinado', 'proceso de bobinado':'winding process,巻き取り工程'}\n",
        "print(d[p])"
      ],
      "metadata": {
        "colab": {
          "base_uri": "https://localhost:8080/"
        },
        "id": "JeaKv3DL2OMr",
        "outputId": "5d9b7e28-2d08-44be-a8a0-1ef1c6d63b4d"
      },
      "execution_count": null,
      "outputs": [
        {
          "output_type": "stream",
          "name": "stdout",
          "text": [
            "Enter what you want to translate.\n",
            "Introduce lo que quieres traducir.\n",
            "翻訳したい内容を入力してください:\n",
            "devanado\n",
            "まきとり,winding\n"
          ]
        }
      ]
    },
    {
      "cell_type": "code",
      "source": [
        "# Your predefined dictionary\n",
        "my_dictionary = {\n",
        "    \"apple\": \"fruit\",\n",
        "    \"carrot\": \"vegetable\",\n",
        "    \"banana\": \"fruit\",\n",
        "    \"broccoli\": \"vegetable\",\n",
        "    'winding process': '巻き取り工程, proceso de bobinado',\n",
        "    'devanado': 'まきとり,winding',\n",
        "    'winding': 'まきとり, devanado',\n",
        "    '巻き取り工程': 'winding process,proceso de bobinado',\n",
        "    'proceso de bobinado':'winding process,巻き取り工程',\n",
        "    '巻き取り':'winding,bobinado'\n",
        "\n",
        "    # Add more words and their corresponding values as needed\n",
        "}\n",
        "def retrieve_value(input_word, your_dict):\n",
        "    if input_word in your_dict:\n",
        "        return your_dict[input_word]\n",
        "    else:\n",
        "        return \"Word not found in the TransBot.Palabra no encontrada en el TransBot.トランスボットに単語が見つかりません.\"\n",
        "\n",
        "# Taking input from the user\n",
        "word_to_find = input(\"Enter what you want to translate;\" \"\\n\" \"Introduce lo que quieres traducir;\" \"\\n\" \"翻訳したい内容を入力してください:\" \"\\n\")\n",
        "\n",
        "# Retrieving the value from the dictionary\n",
        "result = retrieve_value(word_to_find, my_dictionary)\n",
        "print(result)"
      ],
      "metadata": {
        "id": "celHjotyZU-N"
      },
      "execution_count": null,
      "outputs": []
    },
    {
      "cell_type": "code",
      "source": [
        "import pandas as pd\n",
        "\n",
        "df_from_csv = pd.read_csv(\"table1.csv\")\n",
        "\n",
        "def search_df(input_word, my_db):\n",
        "  rows = my_db[my_db[\"Input\"] == input_word]\n",
        "  if len(rows) == 1:\n",
        "    return rows\n",
        "  else:\n",
        "    return \"Word not found in this application.没找到相应的关键词。この話題はみつかりませんでした。\"\n",
        "# Taking input from the user\n",
        "word_to_find = input(\"Enter what you want to talk;\" \"\\n\" \"输入您想谈论的话题;\" \"\\n\" \"話したい話題を入力してください:\" \"\\n\")\n",
        "\n",
        "result = search_df(word_to_find, df_from_csv)\n",
        "\n",
        "print(result)\n"
      ],
      "metadata": {
        "id": "90rq-JaqhWXy",
        "colab": {
          "base_uri": "https://localhost:8080/"
        },
        "outputId": "65271867-4468-4412-cabe-51c6c8140661"
      },
      "execution_count": null,
      "outputs": [
        {
          "output_type": "stream",
          "name": "stdout",
          "text": [
            "Enter what you want to talk;\n",
            "输入您想谈论的话题;\n",
            "話したい話題を入力してください:\n",
            "coil\n",
            "  Input                              Example Translate      Example.1\n",
            "0  coil  He began to coil up the heavy ropes       コイル  彼は重いロープを巻き始めた\n"
          ]
        }
      ]
    },
    {
      "cell_type": "code",
      "source": [
        "import pyttsx3"
      ],
      "metadata": {
        "id": "pGZ0vi4qvVlj",
        "outputId": "310d15b8-2527-495e-c043-4f031eddd608",
        "colab": {
          "base_uri": "https://localhost:8080/",
          "height": 319
        }
      },
      "execution_count": null,
      "outputs": [
        {
          "output_type": "error",
          "ename": "ModuleNotFoundError",
          "evalue": "No module named 'pyttsx3'",
          "traceback": [
            "\u001b[0;31m---------------------------------------------------------------------------\u001b[0m",
            "\u001b[0;31mModuleNotFoundError\u001b[0m                       Traceback (most recent call last)",
            "\u001b[0;32m<ipython-input-1-12e8158cd2a5>\u001b[0m in \u001b[0;36m<cell line: 1>\u001b[0;34m()\u001b[0m\n\u001b[0;32m----> 1\u001b[0;31m \u001b[0;32mimport\u001b[0m \u001b[0mpyttsx3\u001b[0m\u001b[0;34m\u001b[0m\u001b[0;34m\u001b[0m\u001b[0m\n\u001b[0m",
            "\u001b[0;31mModuleNotFoundError\u001b[0m: No module named 'pyttsx3'",
            "",
            "\u001b[0;31m---------------------------------------------------------------------------\u001b[0;32m\nNOTE: If your import is failing due to a missing package, you can\nmanually install dependencies using either !pip or !apt.\n\nTo view examples of installing some common dependencies, click the\n\"Open Examples\" button below.\n\u001b[0;31m---------------------------------------------------------------------------\u001b[0m\n"
          ],
          "errorDetails": {
            "actions": [
              {
                "action": "open_url",
                "actionText": "Open Examples",
                "url": "/notebooks/snippets/importing_libraries.ipynb"
              }
            ]
          }
        }
      ]
    },
    {
      "cell_type": "code",
      "source": [],
      "metadata": {
        "id": "6Wd_X9tCvaPs"
      },
      "execution_count": null,
      "outputs": []
    }
  ]
}